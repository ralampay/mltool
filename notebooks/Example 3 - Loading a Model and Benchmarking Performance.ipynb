{
 "cells": [
  {
   "cell_type": "code",
   "execution_count": 1,
   "id": "c2cd9219",
   "metadata": {},
   "outputs": [],
   "source": [
    "import pandas as pd\n",
    "from sklearn.neural_network import MLPClassifier\n",
    "from joblib import dump, load\n",
    "from sklearn.metrics import multilabel_confusion_matrix\n",
    "from sklearn.metrics import classification_report"
   ]
  },
  {
   "cell_type": "code",
   "execution_count": 2,
   "id": "ddf16296",
   "metadata": {},
   "outputs": [],
   "source": [
    "input_model_file = \"mlp.joblib\"\n",
    "input_test_file = \"x_test.csv\"\n",
    "input_labels_file = \"y_test.csv\"\n",
    "\n",
    "df_x = pd.read_csv(input_test_file)\n",
    "df_y = pd.read_csv(input_labels_file)\n",
    "\n",
    "x = df_x.values\n",
    "y = df_y.values"
   ]
  },
  {
   "cell_type": "code",
   "execution_count": 3,
   "id": "b3a3291b",
   "metadata": {},
   "outputs": [
    {
     "data": {
      "text/plain": [
       "array([[0., 0., 0., 1.],\n",
       "       [1., 0., 0., 0.],\n",
       "       [0., 0., 1., 0.],\n",
       "       ...,\n",
       "       [1., 0., 0., 0.],\n",
       "       [0., 1., 0., 0.],\n",
       "       [0., 0., 1., 0.]])"
      ]
     },
     "execution_count": 3,
     "metadata": {},
     "output_type": "execute_result"
    }
   ],
   "source": [
    "# Load model\n",
    "clf = load(input_model_file)\n",
    "\n",
    "def one_hot_encoding(nd_array):\n",
    "    one_hot_encoding_predictions = nd_array\n",
    "\n",
    "    for i in range(len(nd_array)):\n",
    "        max_pred = max(nd_array[i])\n",
    "\n",
    "        for j in range(len(nd_array[i])):\n",
    "            one_hot_encoding_predictions[i][j] = 1 if nd_array[i][j] == max_pred else 0\n",
    "\n",
    "    return one_hot_encoding_predictions\n",
    "\n",
    "predictions = clf.predict_proba(x)\n",
    "\n",
    "predictions = one_hot_encoding(predictions)\n",
    "\n",
    "predictions"
   ]
  },
  {
   "cell_type": "code",
   "execution_count": 4,
   "id": "1403c370",
   "metadata": {},
   "outputs": [
    {
     "data": {
      "text/plain": [
       "array([[[288,  17],\n",
       "        [  5,  90]],\n",
       "\n",
       "       [[242,  66],\n",
       "        [ 39,  53]],\n",
       "\n",
       "       [[262,  39],\n",
       "        [ 46,  53]],\n",
       "\n",
       "       [[275,  11],\n",
       "        [ 43,  71]]])"
      ]
     },
     "execution_count": 4,
     "metadata": {},
     "output_type": "execute_result"
    }
   ],
   "source": [
    "# Benchmark our predictions\n",
    "benchmarks = multilabel_confusion_matrix(y, predictions)\n",
    "\n",
    "benchmarks"
   ]
  },
  {
   "cell_type": "code",
   "execution_count": 8,
   "id": "b3d460ef",
   "metadata": {},
   "outputs": [
    {
     "name": "stdout",
     "output_type": "stream",
     "text": [
      "              precision    recall  f1-score   support\n",
      "\n",
      "           0       0.84      0.95      0.89        95\n",
      "           1       0.45      0.58      0.50        92\n",
      "           2       0.58      0.54      0.55        99\n",
      "           3       0.87      0.62      0.72       114\n",
      "\n",
      "   micro avg       0.67      0.67      0.67       400\n",
      "   macro avg       0.68      0.67      0.67       400\n",
      "weighted avg       0.69      0.67      0.67       400\n",
      " samples avg       0.67      0.67      0.67       400\n",
      "\n"
     ]
    }
   ],
   "source": [
    "report = classification_report(y, predictions)\n",
    "\n",
    "print(report)"
   ]
  },
  {
   "cell_type": "code",
   "execution_count": null,
   "id": "300e6370",
   "metadata": {},
   "outputs": [],
   "source": []
  }
 ],
 "metadata": {
  "kernelspec": {
   "display_name": "Python 3 (ipykernel)",
   "language": "python",
   "name": "python3"
  },
  "language_info": {
   "codemirror_mode": {
    "name": "ipython",
    "version": 3
   },
   "file_extension": ".py",
   "mimetype": "text/x-python",
   "name": "python",
   "nbconvert_exporter": "python",
   "pygments_lexer": "ipython3",
   "version": "3.10.7"
  }
 },
 "nbformat": 4,
 "nbformat_minor": 5
}
