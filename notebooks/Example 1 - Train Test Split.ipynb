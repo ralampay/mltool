{
 "cells": [
  {
   "cell_type": "markdown",
   "id": "7950fd47",
   "metadata": {},
   "source": [
    "# Train Test Split\n",
    "\n",
    "Snippets to split a dataset into its training and testing components based on some ratio."
   ]
  },
  {
   "cell_type": "code",
   "execution_count": 1,
   "id": "6337663e",
   "metadata": {},
   "outputs": [],
   "source": [
    "import pandas as pd"
   ]
  },
  {
   "cell_type": "markdown",
   "id": "01d3a5c9",
   "metadata": {},
   "source": [
    "## Read the CSV file as a Data Frame"
   ]
  },
  {
   "cell_type": "code",
   "execution_count": null,
   "id": "eca71338",
   "metadata": {},
   "outputs": [],
   "source": []
  }
 ],
 "metadata": {
  "kernelspec": {
   "display_name": "Python 3 (ipykernel)",
   "language": "python",
   "name": "python3"
  },
  "language_info": {
   "codemirror_mode": {
    "name": "ipython",
    "version": 3
   },
   "file_extension": ".py",
   "mimetype": "text/x-python",
   "name": "python",
   "nbconvert_exporter": "python",
   "pygments_lexer": "ipython3",
   "version": "3.10.7"
  }
 },
 "nbformat": 4,
 "nbformat_minor": 5
}
